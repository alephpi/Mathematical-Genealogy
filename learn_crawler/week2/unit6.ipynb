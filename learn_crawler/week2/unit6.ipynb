{
 "cells": [
  {
   "cell_type": "markdown",
   "metadata": {},
   "source": [
    "# 最好大学排名"
   ]
  },
  {
   "cell_type": "markdown",
   "metadata": {},
   "source": [
    "定向爬虫"
   ]
  },
  {
   "cell_type": "code",
   "execution_count": 2,
   "metadata": {},
   "outputs": [],
   "source": [
    "import requests"
   ]
  },
  {
   "cell_type": "markdown",
   "metadata": {},
   "source": [
    "可行性分析：是否是静态信息（相较于通过脚本生成的动态信息而言）"
   ]
  },
  {
   "cell_type": "markdown",
   "metadata": {},
   "source": [
    "检查源码后，确是静态，可行"
   ]
  },
  {
   "cell_type": "code",
   "execution_count": 3,
   "metadata": {},
   "outputs": [],
   "source": [
    "from bs4 import BeautifulSoup"
   ]
  },
  {
   "cell_type": "code",
   "execution_count": 43,
   "metadata": {},
   "outputs": [],
   "source": [
    "import bs4"
   ]
  },
  {
   "cell_type": "code",
   "execution_count": 14,
   "metadata": {},
   "outputs": [],
   "source": [
    "import re"
   ]
  },
  {
   "cell_type": "code",
   "execution_count": 9,
   "metadata": {},
   "outputs": [],
   "source": [
    "def getHTMLText(url):\n",
    "    try:\n",
    "        r = requests.get(url, timeout=30)\n",
    "        r.raise_for_status()\n",
    "        r.encoding=r.apparent_encoding\n",
    "        return r.text\n",
    "    except:\n",
    "        return \"\""
   ]
  },
  {
   "cell_type": "code",
   "execution_count": 10,
   "metadata": {},
   "outputs": [],
   "source": [
    "url = 'https://www.shanghairanking.cn/rankings/bcur/2022'"
   ]
  },
  {
   "cell_type": "code",
   "execution_count": 11,
   "metadata": {},
   "outputs": [],
   "source": [
    "html = getHTMLText(url)"
   ]
  },
  {
   "cell_type": "code",
   "execution_count": 12,
   "metadata": {},
   "outputs": [],
   "source": [
    "soup = BeautifulSoup(html,'html.parser')"
   ]
  },
  {
   "cell_type": "code",
   "execution_count": 27,
   "metadata": {},
   "outputs": [
    {
     "data": {
      "text/plain": [
       "bs4.element.Tag"
      ]
     },
     "execution_count": 27,
     "metadata": {},
     "output_type": "execute_result"
    }
   ],
   "source": [
    "type(soup.find_all(True, string=re.compile('清华大学'))[0])"
   ]
  },
  {
   "cell_type": "code",
   "execution_count": 32,
   "metadata": {},
   "outputs": [
    {
     "name": "stdout",
     "output_type": "stream",
     "text": [
      "<tr data-v-3fe7d390=\"\">\n",
      " <td data-v-3fe7d390=\"\">\n",
      "  <div class=\"ranking top1\" data-v-3fe7d390=\"\">\n",
      "   1\n",
      "  </div>\n",
      " </td>\n",
      " <td class=\"align-left\" data-v-3fe7d390=\"\">\n",
      "  <div class=\"univname-container\" data-v-3fe7d390=\"\">\n",
      "   <div class=\"logo\" data-v-3fe7d390=\"\">\n",
      "    <img alt=\"清华大学\" class=\"univ-logo\" data-v-3fe7d390=\"\" onerror='this.src=\"/images/blank.svg\"' src=\"https://www.shanghairanking.cn/_uni/logo/27532357.png\"/>\n",
      "   </div>\n",
      "   <div class=\"univname\" data-v-3fe7d390=\"\">\n",
      "    <div data-v-3fe7d390=\"\" data-v-b80b4d60=\"\">\n",
      "     <div class=\"tooltip\" data-v-b80b4d60=\"\">\n",
      "      <div class=\"link-container\" data-v-b80b4d60=\"\">\n",
      "       <a class=\"name-cn\" data-v-b80b4d60=\"\" href=\"/institution/tsinghua-university\">\n",
      "        清华大学\n",
      "       </a>\n",
      "       <div class=\"collection\" data-v-b80b4d60=\"\" style=\"display:none\">\n",
      "        <img alt=\"\" data-v-b80b4d60=\"\" src=\"/_nuxt/img/uncollection.5e124aa.svg\"/>\n",
      "       </div>\n",
      "      </div>\n",
      "      <!-- -->\n",
      "     </div>\n",
      "    </div>\n",
      "    <div data-v-3fe7d390=\"\" data-v-f9104fdc=\"\">\n",
      "     <div class=\"tooltip\" data-v-f9104fdc=\"\">\n",
      "      <div class=\"link-container\" data-v-f9104fdc=\"\">\n",
      "       <a class=\"name-en\" data-v-f9104fdc=\"\" href=\"/institution/tsinghua-university\">\n",
      "        Tsinghua University\n",
      "       </a>\n",
      "      </div>\n",
      "      <!-- -->\n",
      "     </div>\n",
      "    </div>\n",
      "    <p class=\"tags\" data-v-3fe7d390=\"\">\n",
      "     双一流/985/211\n",
      "    </p>\n",
      "    <!-- -->\n",
      "    <!-- -->\n",
      "    <!-- -->\n",
      "   </div>\n",
      "  </div>\n",
      " </td>\n",
      " <td data-v-3fe7d390=\"\">\n",
      "  北京\n",
      "  <!-- -->\n",
      " </td>\n",
      " <td data-v-3fe7d390=\"\">\n",
      "  综合\n",
      "  <!-- -->\n",
      " </td>\n",
      " <td data-v-3fe7d390=\"\">\n",
      "  999.4\n",
      " </td>\n",
      " <td data-v-3fe7d390=\"\">\n",
      "  37.6\n",
      " </td>\n",
      "</tr>\n",
      "\n"
     ]
    }
   ],
   "source": [
    "print(soup.find_all(True, string=re.compile('清华大学'))[0].parent.parent.parent.parent.parent.parent.parent.prettify())"
   ]
  },
  {
   "cell_type": "markdown",
   "metadata": {},
   "source": [
    "note that td is no more simple as the original course, we need to reduce it."
   ]
  },
  {
   "cell_type": "code",
   "execution_count": 57,
   "metadata": {},
   "outputs": [
    {
     "data": {
      "text/plain": [
       "<td data-v-3fe7d390=\"\"><div class=\"ranking\" data-v-3fe7d390=\"\">\n",
       "              30\n",
       "            </div></td>"
      ]
     },
     "execution_count": 57,
     "metadata": {},
     "output_type": "execute_result"
    }
   ],
   "source": [
    "tds[0]"
   ]
  },
  {
   "cell_type": "code",
   "execution_count": 68,
   "metadata": {},
   "outputs": [
    {
     "data": {
      "text/plain": [
       "'30'"
      ]
     },
     "execution_count": 68,
     "metadata": {},
     "output_type": "execute_result"
    }
   ],
   "source": [
    "tds[0].find('div').string.strip()"
   ]
  },
  {
   "cell_type": "code",
   "execution_count": 74,
   "metadata": {},
   "outputs": [
    {
     "data": {
      "text/plain": [
       "<td class=\"align-left\" data-v-3fe7d390=\"\"><div class=\"univname-container\" data-v-3fe7d390=\"\"><div class=\"logo\" data-v-3fe7d390=\"\"><img alt=\"电子科技大学\" class=\"univ-logo\" data-v-3fe7d390=\"\" onerror='this.src=\"/images/blank.svg\"' src=\"https://www.shanghairanking.cn/_uni/logo/55538407.png\"/></div> <div class=\"univname\" data-v-3fe7d390=\"\"><div data-v-3fe7d390=\"\" data-v-b80b4d60=\"\"><div class=\"tooltip\" data-v-b80b4d60=\"\"><div class=\"link-container\" data-v-b80b4d60=\"\"><a class=\"name-cn\" data-v-b80b4d60=\"\" href=\"/institution/university-of-electronic-science-and-technology-of-china\">电子科技大学 </a> <div class=\"collection\" data-v-b80b4d60=\"\" style=\"display:none\"><img alt=\"\" data-v-b80b4d60=\"\" src=\"/_nuxt/img/uncollection.5e124aa.svg\"/></div></div> <!-- --></div></div> <div data-v-3fe7d390=\"\" data-v-f9104fdc=\"\"><div class=\"tooltip\" data-v-f9104fdc=\"\"><div class=\"link-container\" data-v-f9104fdc=\"\"><a class=\"name-en\" data-v-f9104fdc=\"\" href=\"/institution/university-of-electronic-science-and-technology-of-china\">University of Electronic Science and Technology of China </a></div> <!-- --></div></div> <p class=\"tags\" data-v-3fe7d390=\"\">双一流/985/211</p> <!-- --> <!-- --> <!-- --></div></div></td>"
      ]
     },
     "execution_count": 74,
     "metadata": {},
     "output_type": "execute_result"
    }
   ],
   "source": [
    "tds[1]"
   ]
  },
  {
   "cell_type": "code",
   "execution_count": 70,
   "metadata": {},
   "outputs": [
    {
     "data": {
      "text/plain": [
       "'电子科技大学'"
      ]
     },
     "execution_count": 70,
     "metadata": {},
     "output_type": "execute_result"
    }
   ],
   "source": [
    "tds[1].find('a').string.strip()"
   ]
  },
  {
   "cell_type": "code",
   "execution_count": 75,
   "metadata": {},
   "outputs": [
    {
     "data": {
      "text/plain": [
       "<td data-v-3fe7d390=\"\">\n",
       "            四川\n",
       "            <!-- --></td>"
      ]
     },
     "execution_count": 75,
     "metadata": {},
     "output_type": "execute_result"
    }
   ],
   "source": [
    "tds[2]"
   ]
  },
  {
   "cell_type": "code",
   "execution_count": 76,
   "metadata": {},
   "outputs": [],
   "source": [
    "tds[2].string"
   ]
  },
  {
   "cell_type": "markdown",
   "metadata": {},
   "source": [
    "tds[2] is a comment so we should extract it alternatively, but here we don't bother"
   ]
  },
  {
   "cell_type": "code",
   "execution_count": 61,
   "metadata": {},
   "outputs": [
    {
     "data": {
      "text/plain": [
       "<td data-v-3fe7d390=\"\">\n",
       "            理工\n",
       "            <!-- --></td>"
      ]
     },
     "execution_count": 61,
     "metadata": {},
     "output_type": "execute_result"
    }
   ],
   "source": [
    "tds[3]"
   ]
  },
  {
   "cell_type": "markdown",
   "metadata": {},
   "source": [
    "same for tds[3]"
   ]
  },
  {
   "cell_type": "code",
   "execution_count": 62,
   "metadata": {},
   "outputs": [
    {
     "data": {
      "text/plain": [
       "<td data-v-3fe7d390=\"\">\n",
       "            432.0\n",
       "          </td>"
      ]
     },
     "execution_count": 62,
     "metadata": {},
     "output_type": "execute_result"
    }
   ],
   "source": [
    "tds[4]"
   ]
  },
  {
   "cell_type": "code",
   "execution_count": 77,
   "metadata": {},
   "outputs": [
    {
     "data": {
      "text/plain": [
       "'432.0'"
      ]
     },
     "execution_count": 77,
     "metadata": {},
     "output_type": "execute_result"
    }
   ],
   "source": [
    "tds[4].string.strip()"
   ]
  },
  {
   "cell_type": "markdown",
   "metadata": {},
   "source": [
    "td[5] is the international competence, a partial score which contributes to the total score, we don't bother"
   ]
  },
  {
   "cell_type": "code",
   "execution_count": 63,
   "metadata": {},
   "outputs": [
    {
     "data": {
      "text/plain": [
       "<td data-v-3fe7d390=\"\">\n",
       "                    32.3\n",
       "                </td>"
      ]
     },
     "execution_count": 63,
     "metadata": {},
     "output_type": "execute_result"
    }
   ],
   "source": [
    "tds[5]"
   ]
  },
  {
   "cell_type": "code",
   "execution_count": 87,
   "metadata": {},
   "outputs": [],
   "source": [
    "ulist = []\n",
    "for tr in soup.find('tbody').children:\n",
    "    if isinstance(tr, bs4.element.Tag):\n",
    "        tds = tr('td')\n",
    "        rank = tds[0].find('div').string.strip()\n",
    "        name = tds[1].find('a').string.strip()\n",
    "        score = tds[4].string.strip()\n",
    "        ulist.append([rank, name, score])\n"
   ]
  },
  {
   "cell_type": "code",
   "execution_count": 88,
   "metadata": {},
   "outputs": [
    {
     "data": {
      "text/plain": [
       "[['1', '清华大学', '999.4'],\n",
       " ['2', '北京大学', '912.5'],\n",
       " ['3', '浙江大学', '825.3'],\n",
       " ['4', '上海交通大学', '783.3'],\n",
       " ['5', '复旦大学', '697.8'],\n",
       " ['6', '南京大学', '683.4'],\n",
       " ['7', '中国科学技术大学', '609.9'],\n",
       " ['8', '华中科技大学', '609.3'],\n",
       " ['9', '武汉大学', '607.1'],\n",
       " ['10', '西安交通大学', '570.2'],\n",
       " ['11', '四川大学', '561.7'],\n",
       " ['12', '中山大学', '559.4'],\n",
       " ['13', '哈尔滨工业大学', '549.8'],\n",
       " ['14', '同济大学', '548.4'],\n",
       " ['15', '北京航空航天大学', '546.7'],\n",
       " ['16', '东南大学', '538.5'],\n",
       " ['17', '北京师范大学', '534.7'],\n",
       " ['18', '北京理工大学', '530.9'],\n",
       " ['19', '中国人民大学', '514.7'],\n",
       " ['20', '南开大学', '497.4'],\n",
       " ['21', '天津大学', '490.8'],\n",
       " ['22', '山东大学', '484.3'],\n",
       " ['23', '中南大学', '475.8'],\n",
       " ['24', '西北工业大学', '467.9'],\n",
       " ['25', '华南理工大学', '466.7'],\n",
       " ['26', '厦门大学', '458.8'],\n",
       " ['27', '吉林大学', '450.3'],\n",
       " ['28', '华东师范大学', '440.7'],\n",
       " ['29', '中国农业大学', '433.7'],\n",
       " ['30', '电子科技大学', '432.0']]"
      ]
     },
     "execution_count": 88,
     "metadata": {},
     "output_type": "execute_result"
    }
   ],
   "source": [
    "ulist"
   ]
  },
  {
   "cell_type": "code",
   "execution_count": null,
   "metadata": {},
   "outputs": [],
   "source": []
  },
  {
   "cell_type": "code",
   "execution_count": 93,
   "metadata": {},
   "outputs": [],
   "source": [
    "def fillUnivList(ulist, html):\n",
    "    soup=BeautifulSoup(html, 'html.parser')\n",
    "    for tr in soup.find('tbody').children:\n",
    "        if isinstance(tr, bs4.element.Tag):\n",
    "            tds = tr('td')\n",
    "            rank = tds[0].find('div').string.strip()\n",
    "            name = tds[1].find('a').string.strip()\n",
    "            score = tds[4].string.strip()\n",
    "            ulist.append([rank, name, score])\n",
    "    return ulist"
   ]
  },
  {
   "cell_type": "code",
   "execution_count": 96,
   "metadata": {},
   "outputs": [],
   "source": [
    "def printUnivList(ulist, num):\n",
    "    print(\"{:^10}\\t{:^6}\\t{:^10}\".format(\"Rank\",\"Name\",\"Score\"))\n",
    "    for uterm in ulist[:num]:\n",
    "        print(\"{:^10}\\t{:^6}\\t{:^10}\".format(uterm[0],uterm[1],uterm[2]))"
   ]
  },
  {
   "cell_type": "code",
   "execution_count": 97,
   "metadata": {},
   "outputs": [],
   "source": [
    "def main():\n",
    "    uinfo = []\n",
    "    url = 'https://www.shanghairanking.cn/rankings/bcur/2022'\n",
    "    html = getHTMLText(url)\n",
    "    fillUnivList(uinfo, html)\n",
    "    printUnivList(uinfo, 20)"
   ]
  },
  {
   "cell_type": "code",
   "execution_count": 98,
   "metadata": {},
   "outputs": [
    {
     "name": "stdout",
     "output_type": "stream",
     "text": [
      "   Rank   \t Name \t  Score   \n",
      "    1     \t 清华大学 \t  999.4   \n",
      "    2     \t 北京大学 \t  912.5   \n",
      "    3     \t 浙江大学 \t  825.3   \n",
      "    4     \t上海交通大学\t  783.3   \n",
      "    5     \t 复旦大学 \t  697.8   \n",
      "    6     \t 南京大学 \t  683.4   \n",
      "    7     \t中国科学技术大学\t  609.9   \n",
      "    8     \t华中科技大学\t  609.3   \n",
      "    9     \t 武汉大学 \t  607.1   \n",
      "    10    \t西安交通大学\t  570.2   \n",
      "    11    \t 四川大学 \t  561.7   \n",
      "    12    \t 中山大学 \t  559.4   \n",
      "    13    \t哈尔滨工业大学\t  549.8   \n",
      "    14    \t 同济大学 \t  548.4   \n",
      "    15    \t北京航空航天大学\t  546.7   \n",
      "    16    \t 东南大学 \t  538.5   \n",
      "    17    \t北京师范大学\t  534.7   \n",
      "    18    \t北京理工大学\t  530.9   \n",
      "    19    \t中国人民大学\t  514.7   \n",
      "    20    \t 南开大学 \t  497.4   \n"
     ]
    }
   ],
   "source": [
    "main()"
   ]
  },
  {
   "cell_type": "markdown",
   "metadata": {},
   "source": [
    "优化中英文混打排版有点无聊，其实这里完全可以使用pandas的dataframe记录，但是我太懒不想写了。"
   ]
  },
  {
   "cell_type": "markdown",
   "metadata": {},
   "source": []
  }
 ],
 "metadata": {
  "kernelspec": {
   "display_name": "Python 3.7.6 ('base')",
   "language": "python",
   "name": "python3"
  },
  "language_info": {
   "codemirror_mode": {
    "name": "ipython",
    "version": 3
   },
   "file_extension": ".py",
   "mimetype": "text/x-python",
   "name": "python",
   "nbconvert_exporter": "python",
   "pygments_lexer": "ipython3",
   "version": "3.7.6"
  },
  "orig_nbformat": 4,
  "vscode": {
   "interpreter": {
    "hash": "88279d2366fe020547cde40dd65aa0e3aa662a6ec1f3ca12d88834876c85e1a6"
   }
  }
 },
 "nbformat": 4,
 "nbformat_minor": 2
}
